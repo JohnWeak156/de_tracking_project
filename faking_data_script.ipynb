{
 "cells": [
  {
   "cell_type": "code",
   "execution_count": 1,
   "metadata": {
    "colab": {
     "base_uri": "https://localhost:8080/"
    },
    "id": "pOfIFqMbpl1Z",
    "outputId": "0c3ff24c-42ce-4ac6-9108-4ff44748c2fb"
   },
   "outputs": [],
   "source": [
    "from cassandra.cluster import Cluster\n",
    "from cassandra.cqlengine import columns\n",
    "from cassandra.cqlengine.models import  Model\n",
    "from cassandra.cqlengine.management import sync_table\n",
    "from cassandra.cqlengine import connection\n",
    "from cassandra.query import dict_factory\n",
    "from datetime import datetime, timedelta\n",
    "import time\n",
    "import cassandra\n",
    "import random\n",
    "import uuid\n",
    "import math\n",
    "import pandas as pd\n",
    "pd.set_option(\"display.max_rows\", None, \"display.max_columns\", None)\n",
    "import datetime\n",
    "from sqlalchemy import create_engine\n",
    "import pandas as pd\n",
    "import numpy as np\n",
    "import mysql.connector"
   ]
  },
  {
   "cell_type": "code",
   "execution_count": 2,
   "metadata": {},
   "outputs": [],
   "source": [
    "host = 'localhost'\n",
    "port = '3306'\n",
    "db_name = 'study_de'\n",
    "user = 'root'\n",
    "password = ''\n",
    "url = 'jdbc:mysql://' + host + ':' + port + '/' + db_name\n",
    "driver = \"com.mysql.cj.jdbc.Driver\""
   ]
  },
  {
   "cell_type": "code",
   "execution_count": 3,
   "metadata": {},
   "outputs": [],
   "source": [
    "keyspace = 'study_de'\n",
    "cassandra_login = 'cassandra'\n",
    "cassandra_password = 'cassandra'\n",
    "cluster = Cluster()\n",
    "session = cluster.connect(keyspace)"
   ]
  },
  {
   "cell_type": "code",
   "execution_count": 5,
   "metadata": {},
   "outputs": [
    {
     "name": "stderr",
     "output_type": "stream",
     "text": [
      "C:\\Users\\cungt\\AppData\\Local\\Temp\\ipykernel_6256\\321299869.py:6: UserWarning: pandas only supports SQLAlchemy connectable (engine/connection) or database string URI or sqlite3 DBAPI2 connection. Other DBAPI2 objects are not tested. Please consider using SQLAlchemy.\n",
      "  mysql_data = pd.read_sql(query,cnx)\n"
     ]
    },
    {
     "data": {
      "text/html": [
       "<div>\n",
       "<style scoped>\n",
       "    .dataframe tbody tr th:only-of-type {\n",
       "        vertical-align: middle;\n",
       "    }\n",
       "\n",
       "    .dataframe tbody tr th {\n",
       "        vertical-align: top;\n",
       "    }\n",
       "\n",
       "    .dataframe thead th {\n",
       "        text-align: right;\n",
       "    }\n",
       "</style>\n",
       "<table border=\"1\" class=\"dataframe\">\n",
       "  <thead>\n",
       "    <tr style=\"text-align: right;\">\n",
       "      <th></th>\n",
       "      <th>job_id</th>\n",
       "      <th>campaign_id</th>\n",
       "      <th>group_id</th>\n",
       "      <th>company_id</th>\n",
       "    </tr>\n",
       "  </thead>\n",
       "  <tbody>\n",
       "    <tr>\n",
       "      <th>0</th>\n",
       "      <td>2</td>\n",
       "      <td>1</td>\n",
       "      <td>10</td>\n",
       "      <td>1</td>\n",
       "    </tr>\n",
       "    <tr>\n",
       "      <th>1</th>\n",
       "      <td>3</td>\n",
       "      <td>1</td>\n",
       "      <td>10</td>\n",
       "      <td>1</td>\n",
       "    </tr>\n",
       "    <tr>\n",
       "      <th>2</th>\n",
       "      <td>4</td>\n",
       "      <td>1</td>\n",
       "      <td>10</td>\n",
       "      <td>1</td>\n",
       "    </tr>\n",
       "    <tr>\n",
       "      <th>3</th>\n",
       "      <td>5</td>\n",
       "      <td>1</td>\n",
       "      <td>10</td>\n",
       "      <td>1</td>\n",
       "    </tr>\n",
       "    <tr>\n",
       "      <th>4</th>\n",
       "      <td>6</td>\n",
       "      <td>1</td>\n",
       "      <td>10</td>\n",
       "      <td>1</td>\n",
       "    </tr>\n",
       "  </tbody>\n",
       "</table>\n",
       "</div>"
      ],
      "text/plain": [
       "   job_id  campaign_id group_id  company_id\n",
       "0       2            1       10           1\n",
       "1       3            1       10           1\n",
       "2       4            1       10           1\n",
       "3       5            1       10           1\n",
       "4       6            1       10           1"
      ]
     },
     "execution_count": 5,
     "metadata": {},
     "output_type": "execute_result"
    }
   ],
   "source": [
    "def get_data_from_job(user,password,host,db_name):\n",
    "    cnx = mysql.connector.connect(user=user, password=password,\n",
    "                                         host=host,\n",
    "                                      database=db_name)\n",
    "    query = \"\"\"select id as job_id,campaign_id , group_id , company_id from job\"\"\"\n",
    "    mysql_data = pd.read_sql(query,cnx)\n",
    "    return mysql_data\n",
    "\n",
    "mysql_data = get_data_from_job(user,password,host,db_name)\n",
    "mysql_data.head()"
   ]
  },
  {
   "cell_type": "code",
   "execution_count": 6,
   "metadata": {},
   "outputs": [
    {
     "name": "stderr",
     "output_type": "stream",
     "text": [
      "C:\\Users\\cungt\\AppData\\Local\\Temp\\ipykernel_6256\\1796497250.py:6: UserWarning: pandas only supports SQLAlchemy connectable (engine/connection) or database string URI or sqlite3 DBAPI2 connection. Other DBAPI2 objects are not tested. Please consider using SQLAlchemy.\n",
      "  mysql_data = pd.read_sql(query,cnx)\n"
     ]
    },
    {
     "data": {
      "text/html": [
       "<div>\n",
       "<style scoped>\n",
       "    .dataframe tbody tr th:only-of-type {\n",
       "        vertical-align: middle;\n",
       "    }\n",
       "\n",
       "    .dataframe tbody tr th {\n",
       "        vertical-align: top;\n",
       "    }\n",
       "\n",
       "    .dataframe thead th {\n",
       "        text-align: right;\n",
       "    }\n",
       "</style>\n",
       "<table border=\"1\" class=\"dataframe\">\n",
       "  <thead>\n",
       "    <tr style=\"text-align: right;\">\n",
       "      <th></th>\n",
       "      <th>publisher_id</th>\n",
       "    </tr>\n",
       "  </thead>\n",
       "  <tbody>\n",
       "    <tr>\n",
       "      <th>0</th>\n",
       "      <td>1</td>\n",
       "    </tr>\n",
       "    <tr>\n",
       "      <th>1</th>\n",
       "      <td>2</td>\n",
       "    </tr>\n",
       "    <tr>\n",
       "      <th>2</th>\n",
       "      <td>3</td>\n",
       "    </tr>\n",
       "    <tr>\n",
       "      <th>3</th>\n",
       "      <td>4</td>\n",
       "    </tr>\n",
       "    <tr>\n",
       "      <th>4</th>\n",
       "      <td>5</td>\n",
       "    </tr>\n",
       "  </tbody>\n",
       "</table>\n",
       "</div>"
      ],
      "text/plain": [
       "   publisher_id\n",
       "0             1\n",
       "1             2\n",
       "2             3\n",
       "3             4\n",
       "4             5"
      ]
     },
     "execution_count": 6,
     "metadata": {},
     "output_type": "execute_result"
    }
   ],
   "source": [
    "def get_data_from_publisher(user,password,host,db_name):\n",
    "    cnx = mysql.connector.connect(user=user, password=password,\n",
    "                                         host=host,\n",
    "                                      database=db_name)\n",
    "    query = \"\"\"select distinct(id) as publisher_id from master_publisher\"\"\"\n",
    "    mysql_data = pd.read_sql(query,cnx)\n",
    "    return mysql_data\n",
    "\n",
    "mysql_data = get_data_from_publisher(user,password,host,db_name)\n",
    "mysql_data.head()"
   ]
  },
  {
   "cell_type": "code",
   "execution_count": null,
   "metadata": {},
   "outputs": [],
   "source": [
    "def generating_dummy_data(n_records,session,user,password,host,db_name):\n",
    "    publisher = get_data_from_publisher(user,password,host,db_name)\n",
    "    publisher = publisher['publisher_id'].to_list()\n",
    "    jobs_data = get_data_from_job(user,password,host,db_name)\n",
    "    job_list = jobs_data['job_id'].to_list()\n",
    "    campaign_list = jobs_data['campaign_id'].to_list()\n",
    "    company_list = jobs_data['company_id'].to_list()\n",
    "    group_list = jobs_data[jobs_data['group_id']!='']['group_id'].astype(int).to_list()\n",
    "    i = 0\n",
    "    fake_records = n_records\n",
    "    while i <= fake_records:\n",
    "        create_time = cassandra.util.uuid_from_time(datetime.datetime.now())\n",
    "        bid = random.randint(0,1)\n",
    "        interact = ['click','conversion','qualified','unqualified']\n",
    "        custom_track = random.choices(interact,weights=(70,10,10,10))[0]\n",
    "        job_id = random.choice(job_list)\n",
    "        publisher_id = random.choice(publisher)\n",
    "        group_id = random.choice(group_list)\n",
    "        campaign_id = random.choice(campaign_list)\n",
    "        ts = datetime.datetime.now().strftime('%Y-%m-%d %H:%M:%S')\n",
    "        sql = f\"\"\" INSERT INTO log_tracking (create_time,bid,campaign_id,custom_track,group_id,job_id,publisher_id,ts) VALUES ('{create_time}',{bid},{campaign_id},'{custom_track}',{group_id},{job_id},{publisher_id},'{ts}')\"\"\"\n",
    "        print(sql)\n",
    "        session.execute(sql)\n",
    "        i+=1 \n",
    "    print(\"Data Generated Successfully\")"
   ]
  },
  {
   "cell_type": "code",
   "execution_count": null,
   "metadata": {},
   "outputs": [],
   "source": []
  },
  {
   "cell_type": "code",
   "execution_count": null,
   "metadata": {},
   "outputs": [],
   "source": [
    " "
   ]
  }
 ],
 "metadata": {
  "colab": {
   "provenance": []
  },
  "kernelspec": {
   "display_name": "Python 3",
   "language": "python",
   "name": "python3"
  },
  "language_info": {
   "codemirror_mode": {
    "name": "ipython",
    "version": 3
   },
   "file_extension": ".py",
   "mimetype": "text/x-python",
   "name": "python",
   "nbconvert_exporter": "python",
   "pygments_lexer": "ipython3",
   "version": "3.10.9"
  }
 },
 "nbformat": 4,
 "nbformat_minor": 1
}
